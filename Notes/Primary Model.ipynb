{
 "cells": [
  {
   "cell_type": "markdown",
   "source": [
    "### Primary Modeling\n",
    "\n",
    "**National Accounts**\n",
    "\n",
    "- GDP\n",
    "- Private consumption\n",
    "- construction\n",
    "- Facilities Investment\n",
    "- Export of goods and services\n",
    "\n",
    "**Labor**\n",
    "\n",
    "- Unemployment rate\n",
    "- Employment to population ratio\n",
    "- Number of job opening per unemployment persons\n",
    "- Employment rate\n",
    "- Employed persons\n",
    "\n",
    "**International Trade**\n",
    "- Export\n",
    "- Import\n",
    "- Import price Index\n",
    "- Export price Index\n",
    "\n",
    "**Consumption Price**\n",
    "- Retail Sales Index\n",
    "- Consumer Price Index\n",
    "- Producer Price Index\n",
    "- Consumer Price Index (ex agricultural products & oils)\n",
    "- Consumer Price Index (ex food & energy)\n",
    "\n",
    "**Production, Manufacturing**\n",
    "- Total Equipment Index\n",
    "- Manufacturing Shipment Index\n",
    "- Manufacturing Inventory Index\n",
    "- Index of Services Production\n",
    "- Index of Mining and Manufacturing Production\n",
    "\n",
    "**Survey data**\n",
    "- Sales Growth BSI (all industries)\n",
    "- Business Condition BSI (all industries)\n",
    "- Exports Growth BSI (manufacturing)\n",
    "- Operation ratio BSI (manufacturing)\n",
    "- New Orders Growth BSI (manufacturing)\n",
    "- Domestic Sales Growth BSI (manufacturing)\n",
    "- Economic Sentiment Index\n",
    "- Current Economic Situation CSI\n",
    "- Composite Consumer Sentiment Index"
   ],
   "metadata": {
    "collapsed": false
   },
   "id": "35b46499e8dd797d"
  }
 ],
 "metadata": {
  "kernelspec": {
   "display_name": "Python 3",
   "language": "python",
   "name": "python3"
  },
  "language_info": {
   "codemirror_mode": {
    "name": "ipython",
    "version": 2
   },
   "file_extension": ".py",
   "mimetype": "text/x-python",
   "name": "python",
   "nbconvert_exporter": "python",
   "pygments_lexer": "ipython2",
   "version": "2.7.6"
  }
 },
 "nbformat": 4,
 "nbformat_minor": 5
}
