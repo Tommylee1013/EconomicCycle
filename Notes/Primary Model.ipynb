{
 "cells": [
  {
   "cell_type": "markdown",
   "source": [
    "### Primary Modeling\n",
    "\n",
    "**National Accounts**\n",
    "\n",
    "- GDP\n",
    "- Private consumption\n",
    "- construction\n",
    "- Facilities Investment\n",
    "- Export of goods and services\n",
    "\n",
    "**Labor**\n",
    "\n",
    "- Unemployment rate\n",
    "- Employment to population ratio\n",
    "- Number of job opening per unemployment persons\n",
    "- Employment rate\n",
    "- Employed persons\n",
    "\n",
    "**International Trade**\n",
    "- Export\n",
    "- Import\n",
    "- Import price Index\n",
    "- Export price Index\n",
    "\n",
    "**Consumption Price**\n",
    "- Retail Sales Index\n",
    "- Consumer Price Index\n",
    "- Producer Price Index\n",
    "- Consumer Price Index (ex agricultural products & oils)\n",
    "- Consumer Price Index (ex food & energy)\n",
    "\n",
    "**Production, Manufacturing**\n",
    "- Total Equipment Index\n",
    "- Manufacturing Shipment Index\n",
    "- Manufacturing Inventory Index\n",
    "- Index of Services Production\n",
    "- Index of Mining and Manufacturing Production\n",
    "\n",
    "**Survey data**\n",
    "- Sales Growth BSI (all industries)\n",
    "- Business Condition BSI (all industries)\n",
    "- Exports Growth BSI (manufacturing)\n",
    "- Operation ratio BSI (manufacturing)\n",
    "- New Orders Growth BSI (manufacturing)\n",
    "- Domestic Sales Growth BSI (manufacturing)\n",
    "- Economic Sentiment Index\n",
    "- Current Economic Situation CSI\n",
    "- Composite Consumer Sentiment Index"
   ],
   "metadata": {
    "collapsed": false
   },
   "id": "35b46499e8dd797d"
  },
  {
   "cell_type": "code",
   "execution_count": 14,
   "outputs": [],
   "source": [
    "import pandas as pd\n",
    "import numpy as np\n",
    "\n",
    "consumption = pd.read_csv('../Cleaned_Data/consumption.csv', index_col = 0)\n",
    "consumption.index = pd.to_datetime(consumption.index)\n",
    "production = pd.read_csv('../Cleaned_Data/production.csv', index_col = 0)\n",
    "production.index = pd.to_datetime(production.index)\n",
    "facility = pd.read_csv('../Cleaned_Data/facility.csv', index_col = 0)\n",
    "facility.index = pd.to_datetime(facility.index)\n",
    "construction = pd.read_csv('../Cleaned_Data/construction.csv', index_col = 0)\n",
    "construction.index = pd.to_datetime(construction.index)\n",
    "sentiment = pd.read_csv('../Cleaned_Data/sentiment_index.csv', index_col = 0)\n",
    "sentiment.index = pd.to_datetime(sentiment.index)"
   ],
   "metadata": {
    "collapsed": false,
    "ExecuteTime": {
     "end_time": "2023-11-29T04:18:09.802797Z",
     "start_time": "2023-11-29T04:18:09.786396Z"
    }
   },
   "id": "684ee22b4b06f131"
  },
  {
   "cell_type": "code",
   "execution_count": 15,
   "outputs": [],
   "source": [
    "feature_matrix = {\n",
    "    'consumption' : consumption,\n",
    "    'production' : production,\n",
    "    'facility_investment' : facility,\n",
    "    'construction_investment' : construction,\n",
    "    'sentiment_index' : sentiment\n",
    "}"
   ],
   "metadata": {
    "collapsed": false,
    "ExecuteTime": {
     "end_time": "2023-11-29T04:18:10.272182Z",
     "start_time": "2023-11-29T04:18:10.270886Z"
    }
   },
   "id": "28b804795187a3ab"
  },
  {
   "cell_type": "code",
   "execution_count": 16,
   "outputs": [
    {
     "data": {
      "text/plain": "{'consumption':             moneraty_rate  cpi_rate  ccpi_without_arg_crd_oil  \\\n 2000-02-01          0.014     0.018                     0.011   \n 2000-03-01          0.023     0.021                     0.015   \n 2000-04-01          0.018     0.014                     0.016   \n 2000-05-01          0.011     0.011                     0.015   \n 2000-06-01          0.006     0.022                     0.016   \n ...                   ...       ...                       ...   \n 2023-05-01          0.023     0.033                     0.043   \n 2023-06-01          0.022     0.027                     0.041   \n 2023-07-01          0.025     0.023                     0.039   \n 2023-08-01          0.022     0.034                     0.039   \n 2023-09-01          0.025     0.037                     0.038   \n \n             ccpi_without_food_energy  retail_consumption  vehicle_consumption  \\\n 2000-02-01                     0.008               0.519                0.330   \n 2000-03-01                     0.013               0.516                0.294   \n 2000-04-01                     0.015               0.527                0.262   \n 2000-05-01                     0.013               0.542                0.308   \n 2000-06-01                     0.015               0.536                0.323   \n ...                              ...                 ...                  ...   \n 2023-05-01                     0.039               1.054                1.055   \n 2023-06-01                     0.035               1.064                1.192   \n 2023-07-01                     0.033               1.030                1.045   \n 2023-08-01                     0.033               1.027                1.020   \n 2023-09-01                     0.033               1.029                1.028   \n \n             hushld_loan  durb_goods_sales  quas_drub_goods_sales  \\\n 2000-02-01       0.1004             0.541                  0.095   \n 2000-03-01       0.1005             0.383                  0.100   \n 2000-04-01       0.0996             0.335                  0.125   \n 2000-05-01       0.0996             0.376                  0.112   \n 2000-06-01       0.0987             0.348                  0.086   \n ...                 ...               ...                    ...   \n 2023-05-01       0.0483             0.019                 -0.033   \n 2023-06-01       0.0481             0.083                 -0.022   \n 2023-07-01       0.0480             0.014                 -0.059   \n 2023-08-01       0.0483            -0.019                 -0.071   \n 2023-09-01       0.0490            -0.029                 -0.079   \n \n             non_durb_goods_sales  estimated_consumption  \n 2000-02-01                 0.091               0.062720  \n 2000-03-01                 0.092               0.067401  \n 2000-04-01                 0.116               0.030994  \n 2000-05-01                 0.173               0.013406  \n 2000-06-01                 0.117               0.033683  \n ...                          ...                    ...  \n 2023-05-01                -0.003               0.001747  \n 2023-06-01                -0.005              -0.001337  \n 2023-07-01                -0.019              -0.003589  \n 2023-08-01                -0.056               0.005072  \n 2023-09-01                 0.004               0.010551  \n \n [284 rows x 11 columns],\n 'production':             production_idx  mine_prod_idx  const_prod_idx  service_idx  \\\n 2001-01-31        0.025391      -0.042316        0.062374     0.054104   \n 2001-02-28        0.049689       0.055288        0.097308     0.048263   \n 2001-03-31        0.025688       0.014768        0.026941     0.036907   \n 2001-04-30        0.056818       0.044643        0.057949     0.067766   \n 2001-05-31        0.045290       0.016949        0.023384     0.068421   \n ...                    ...            ...             ...          ...   \n 2023-05-31       -0.014388      -0.075838        0.057173     0.011525   \n 2023-06-30        0.006130      -0.060315        0.088346     0.029772   \n 2023-07-31       -0.013624      -0.081344        0.101598     0.018733   \n 2023-08-31        0.012975      -0.006579        0.107064     0.016949   \n 2023-09-30        0.028414       0.030246        0.144723     0.022085   \n \n             admin_prod_idx  gen_machine_idx  elec_machine_idx  \\\n 2001-01-31        0.038820        -0.030675         -0.044747   \n 2001-02-28       -0.018975         0.026365         -0.136861   \n 2001-03-31       -0.023026        -0.040580         -0.140000   \n 2001-04-30        0.023064        -0.226158         -0.130031   \n 2001-05-31       -0.003317        -0.205755         -0.101423   \n ...                    ...              ...               ...   \n 2023-05-31       -0.022461        -0.051505         -0.091185   \n 2023-06-30        0.017500        -0.082113         -0.114151   \n 2023-07-31       -0.077833        -0.154225         -0.069094   \n 2023-08-31        0.002110        -0.237483         -0.053384   \n 2023-09-30       -0.005775        -0.094737         -0.037037   \n \n             prec_machine_idx  other_device_idx  vehicle_idx  other_vehicle_idx  \n 2001-01-31          0.087527         -0.125285    -0.159456           0.226562  \n 2001-02-28          0.108796         -0.021164     0.060000          -0.180851  \n 2001-03-31          0.081522         -0.078054    -0.073514           0.099762  \n 2001-04-30         -0.062963         -0.062500     0.229462          -0.056000  \n 2001-05-31         -0.080614         -0.054147     0.064010           0.497312  \n ...                      ...               ...          ...                ...  \n 2023-05-31         -0.057237         -0.081633    -0.029636           0.013746  \n 2023-06-30          0.038903         -0.017719     0.211042          -0.011425  \n 2023-07-31         -0.056187         -0.058072    -0.148571          -0.011244  \n 2023-08-31         -0.086331         -0.057692    -0.213689           0.203827  \n 2023-09-30         -0.042169          0.000000    -0.115702           0.113460  \n \n [273 rows x 11 columns],\n 'facility_investment':             facil_inv  comp_yield  manuf_inv  prod_idx  manuf_ship_idx  \\\n 2000-02-29      0.615      0.0824    0.44714     0.525         0.49395   \n 2000-03-31      0.479      0.0844    0.45124     0.536         0.49395   \n 2000-04-30      0.441      0.0820    0.44734     0.535         0.49057   \n 2000-05-31      0.387      0.0824    0.46448     0.549         0.50514   \n 2000-06-30      0.364      0.0821    0.45875     0.551         0.50123   \n ...               ...         ...        ...       ...             ...   \n 2023-05-31     -0.049      0.0520    1.06400     1.106         1.01500   \n 2023-06-30     -0.025      0.0532    1.04700     1.106         1.04500   \n 2023-07-31     -0.112      0.0525    1.02400     1.097         0.96100   \n 2023-08-31     -0.146      0.0521    1.07900     1.119         0.99500   \n 2023-09-30     -0.057      0.0527    1.09900     1.131         1.06200   \n \n             inven_idx  util_idx  machine_order  service_idx  retail_idx  \\\n 2000-02-29    0.38614   1.08079          0.094        0.550       0.669   \n 2000-03-31    0.39411   1.09169          0.252        0.556       0.671   \n 2000-04-30    0.38497   1.07281          0.148        0.550       0.686   \n 2000-05-31    0.38876   1.12181          0.038        0.562       0.684   \n 2000-06-30    0.39176   1.09479         -0.133        0.570       0.678   \n ...               ...       ...            ...          ...         ...   \n 2023-05-31    1.25000   1.02400         -0.113        1.142       1.062   \n 2023-06-30    1.17400   1.00800          0.015        1.149       1.069   \n 2023-07-31    1.19200   0.98400          0.017        1.153       1.056   \n 2023-08-31    1.23700   1.03000         -0.240        1.157       1.056   \n 2023-09-30    1.21000   1.02900         -0.204        1.162       1.074   \n \n             estimated_facility  \n 2000-02-29            0.352222  \n 2000-03-31            0.223917  \n 2000-04-30            0.105112  \n 2000-05-31            0.071144  \n 2000-06-30            0.089320  \n ...                        ...  \n 2023-05-31           -0.005883  \n 2023-06-30            0.006827  \n 2023-07-31           -0.019463  \n 2023-08-31           -0.038367  \n 2023-09-30           -0.013648  \n \n [284 rows x 11 columns],\n 'construction_investment':             const_flow  const_order  const_growth  civil_engine  \\\n 2000-02-29      -0.133        0.617        -0.058        -0.212   \n 2000-03-31      -0.037        0.557        -0.010        -0.071   \n 2000-04-30      -0.070       -0.044        -0.043        -0.103   \n 2000-05-31       0.008        0.188         0.065        -0.060   \n 2000-06-30      -0.028        0.319         0.028        -0.092   \n ...                ...          ...           ...           ...   \n 2023-05-31       0.057       -0.188         0.080        -0.016   \n 2023-06-30       0.088       -0.298         0.139        -0.045   \n 2023-07-31       0.102       -0.488         0.128         0.004   \n 2023-08-31       0.108       -0.534         0.140         0.003   \n 2023-09-30       0.145       -0.441         0.113         0.253   \n \n             estimated_construction  \n 2000-02-29                0.021877  \n 2000-03-31               -0.024815  \n 2000-04-30               -0.006937  \n 2000-05-31                0.044834  \n 2000-06-30               -0.020105  \n ...                            ...  \n 2023-05-31               -0.004695  \n 2023-06-30                0.011062  \n 2023-07-31                0.015981  \n 2023-08-31                0.019166  \n 2023-09-30                0.016295  \n \n [284 rows x 5 columns],\n 'sentiment_index':             crnt_living_cdsn_CSI  crnt_economic_jmt_CSI  job_oppr_prop_CSI  \\\n 2003-01-01              0.859058               0.979713           0.924742   \n 2003-02-01              0.855530               0.923110           0.902632   \n 2003-03-01              0.745413               0.707176           0.752626   \n 2003-04-01              0.750554               0.556794           0.703741   \n 2003-05-01              0.708490               0.427125           0.630779   \n ...                          ...                    ...                ...   \n 2023-06-01              0.890000               0.690000           0.810000   \n 2023-07-01              0.910000               0.750000           0.850000   \n 2023-08-01              0.910000               0.720000           0.840000   \n 2023-09-01              0.890000               0.660000           0.770000   \n 2023-10-01              0.880000               0.640000           0.780000   \n \n             interest_prop_CSI  hus_hld_prop_CSI  hus_hld_exp_CSI  \\\n 2003-01-01           0.846106          0.890581         1.050707   \n 2003-02-01           0.860674          0.911055         1.068228   \n 2003-03-01           0.783220          0.838364         0.971065   \n 2003-04-01           0.841899          0.915404         1.042238   \n 2003-05-01           0.818671          0.916128         1.026432   \n ...                       ...               ...              ...   \n 2023-06-01           1.050000          0.980000         1.130000   \n 2023-07-01           1.120000          0.990000         1.130000   \n 2023-08-01           1.180000          1.000000         1.130000   \n 2023-09-01           1.180000          0.990000         1.120000   \n 2023-10-01           1.280000          0.980000         1.130000   \n \n             inflation_prop  econ_sent_idx_CSI  industry_BSI  large_corp_ind  \\\n 2003-01-01        1.579245           1.001139          0.82            0.94   \n 2003-02-01        1.582890           1.008628          0.73            0.84   \n 2003-03-01        1.397865           0.900232          0.71            0.81   \n 2003-04-01        1.437421           0.940696          0.76            0.84   \n 2003-05-01        1.380056           0.912177          0.74            0.84   \n ...                    ...                ...           ...             ...   \n 2023-06-01        1.460000           1.010000          0.76            0.75   \n 2023-07-01        1.440000           1.030000          0.74            0.72   \n 2023-08-01        1.470000           1.030000          0.71            0.70   \n 2023-09-01        1.470000           1.000000          0.73            0.71   \n 2023-10-01        1.510000           0.980000          0.70            0.73   \n \n             mid_corp_ind  chemical_ind  light_ind  export_ind  domestic_ind  \\\n 2003-01-01          0.79          0.85       0.79        0.82          0.84   \n 2003-02-01          0.74          0.79       0.72        0.80          0.76   \n 2003-03-01          0.73          0.78       0.68        0.78          0.74   \n 2003-04-01          0.79          0.84       0.67        0.88          0.78   \n 2003-05-01          0.74          0.79       0.70        0.77          0.77   \n ...                  ...           ...        ...         ...           ...   \n 2023-06-01          0.71          0.76       0.64        0.67          0.78   \n 2023-07-01          0.72          0.74       0.62        0.68          0.74   \n 2023-08-01          0.64          0.68       0.63        0.64          0.69   \n 2023-09-01          0.63          0.69       0.63        0.63          0.71   \n 2023-10-01          0.64          0.70       0.63        0.69          0.69   \n \n             econ_sent_idx  \n 2003-01-01          1.010  \n 2003-02-01          1.023  \n 2003-03-01          0.923  \n 2003-04-01          0.980  \n 2003-05-01          0.961  \n ...                   ...  \n 2023-06-01          0.957  \n 2023-07-01          0.941  \n 2023-08-01          0.940  \n 2023-09-01          0.927  \n 2023-10-01          0.918  \n \n [250 rows x 16 columns]}"
     },
     "execution_count": 16,
     "metadata": {},
     "output_type": "execute_result"
    }
   ],
   "source": [
    "feature_matrix"
   ],
   "metadata": {
    "collapsed": false,
    "ExecuteTime": {
     "end_time": "2023-11-29T04:18:11.087661Z",
     "start_time": "2023-11-29T04:18:11.083183Z"
    }
   },
   "id": "7e6eb8c658d12a84"
  },
  {
   "cell_type": "code",
   "execution_count": 17,
   "outputs": [],
   "source": [
    "gdp = pd.read_csv('../Cleaned_Data/gdp_target.csv', index_col = 0)"
   ],
   "metadata": {
    "collapsed": false,
    "ExecuteTime": {
     "end_time": "2023-11-29T04:18:13.581083Z",
     "start_time": "2023-11-29T04:18:13.573243Z"
    }
   },
   "id": "cb2c23e54775bef9"
  },
  {
   "cell_type": "code",
   "execution_count": 18,
   "outputs": [],
   "source": [
    "gdp.index = pd.to_datetime(gdp.index).strftime('%Y-%m')"
   ],
   "metadata": {
    "collapsed": false,
    "ExecuteTime": {
     "end_time": "2023-11-29T04:18:13.725536Z",
     "start_time": "2023-11-29T04:18:13.721236Z"
    }
   },
   "id": "a13d4967ae927e9b"
  },
  {
   "cell_type": "code",
   "execution_count": 19,
   "outputs": [],
   "source": [
    "gdp.index = pd.to_datetime(gdp.index)"
   ],
   "metadata": {
    "collapsed": false,
    "ExecuteTime": {
     "end_time": "2023-11-29T04:18:13.865766Z",
     "start_time": "2023-11-29T04:18:13.864343Z"
    }
   },
   "id": "1298465fa00fde31"
  },
  {
   "cell_type": "code",
   "execution_count": 20,
   "outputs": [
    {
     "data": {
      "text/plain": "            gdp_estimated\n2001-01-01       0.000000\n2001-02-01       1.639902\n2001-03-01       0.748578\n2001-04-01       0.355909\n2001-05-01      -0.203525\n...                   ...\n2022-11-01      -0.059504\n2022-12-01       0.007799\n2023-01-01       0.171116\n2023-02-01       0.202762\n2023-03-01       0.025032\n\n[267 rows x 1 columns]",
      "text/html": "<div>\n<style scoped>\n    .dataframe tbody tr th:only-of-type {\n        vertical-align: middle;\n    }\n\n    .dataframe tbody tr th {\n        vertical-align: top;\n    }\n\n    .dataframe thead th {\n        text-align: right;\n    }\n</style>\n<table border=\"1\" class=\"dataframe\">\n  <thead>\n    <tr style=\"text-align: right;\">\n      <th></th>\n      <th>gdp_estimated</th>\n    </tr>\n  </thead>\n  <tbody>\n    <tr>\n      <th>2001-01-01</th>\n      <td>0.000000</td>\n    </tr>\n    <tr>\n      <th>2001-02-01</th>\n      <td>1.639902</td>\n    </tr>\n    <tr>\n      <th>2001-03-01</th>\n      <td>0.748578</td>\n    </tr>\n    <tr>\n      <th>2001-04-01</th>\n      <td>0.355909</td>\n    </tr>\n    <tr>\n      <th>2001-05-01</th>\n      <td>-0.203525</td>\n    </tr>\n    <tr>\n      <th>...</th>\n      <td>...</td>\n    </tr>\n    <tr>\n      <th>2022-11-01</th>\n      <td>-0.059504</td>\n    </tr>\n    <tr>\n      <th>2022-12-01</th>\n      <td>0.007799</td>\n    </tr>\n    <tr>\n      <th>2023-01-01</th>\n      <td>0.171116</td>\n    </tr>\n    <tr>\n      <th>2023-02-01</th>\n      <td>0.202762</td>\n    </tr>\n    <tr>\n      <th>2023-03-01</th>\n      <td>0.025032</td>\n    </tr>\n  </tbody>\n</table>\n<p>267 rows × 1 columns</p>\n</div>"
     },
     "execution_count": 20,
     "metadata": {},
     "output_type": "execute_result"
    }
   ],
   "source": [
    "gdp"
   ],
   "metadata": {
    "collapsed": false,
    "ExecuteTime": {
     "end_time": "2023-11-29T04:18:14.007176Z",
     "start_time": "2023-11-29T04:18:14.003654Z"
    }
   },
   "id": "fb871a2dc0a23fb2"
  },
  {
   "cell_type": "markdown",
   "source": [
    "#### Primary Modeling"
   ],
   "metadata": {
    "collapsed": false
   },
   "id": "6b609e22686b09b9"
  },
  {
   "cell_type": "code",
   "execution_count": null,
   "outputs": [],
   "source": [],
   "metadata": {
    "collapsed": false
   },
   "id": "1b581f4f91b79ad4"
  }
 ],
 "metadata": {
  "kernelspec": {
   "display_name": "Python 3",
   "language": "python",
   "name": "python3"
  },
  "language_info": {
   "codemirror_mode": {
    "name": "ipython",
    "version": 2
   },
   "file_extension": ".py",
   "mimetype": "text/x-python",
   "name": "python",
   "nbconvert_exporter": "python",
   "pygments_lexer": "ipython2",
   "version": "2.7.6"
  }
 },
 "nbformat": 4,
 "nbformat_minor": 5
}
